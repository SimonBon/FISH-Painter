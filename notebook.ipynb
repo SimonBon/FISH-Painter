{
 "cells": [
  {
   "cell_type": "code",
   "execution_count": null,
   "metadata": {},
   "outputs": [],
   "source": [
    "import sys\n",
    "\n",
    "import FISHcreation\n",
    "from FISHcreation.src.preprocess import get_cell_background\n",
    "from FISHcreation.src.signals import create_FISH\n",
    "from CellPatchExtraction import extract_patches\n",
    "\n",
    "#debug\n",
    "import matplotlib.pyplot as plt\n",
    "import os\n",
    "from pathlib import Path\n",
    "from cellplot.cellplot.patches import gridPlot, draw_boxes_on_patch\n",
    "\n",
    "FISHcreation.__version__"
   ]
  },
  {
   "cell_type": "code",
   "execution_count": null,
   "metadata": {},
   "outputs": [],
   "source": [
    "background = get_cell_background(\"/home/simon_g/src/FISHcreation/testdata/IF_RGB.TIFF\", normalize=False)[:700, :700]\n",
    "print(background.shape)"
   ]
  },
  {
   "cell_type": "code",
   "execution_count": null,
   "metadata": {},
   "outputs": [],
   "source": [
    "patches, masks, _, _, _ = extract_patches(background, \"CP_TU\", patch_size=128, return_all=True)"
   ]
  },
  {
   "cell_type": "code",
   "execution_count": null,
   "metadata": {},
   "outputs": [],
   "source": [
    "patch = create_FISH(patches[0].copy(), masks[0].copy(), num_red=2, num_green=2)"
   ]
  },
  {
   "cell_type": "code",
   "execution_count": null,
   "metadata": {},
   "outputs": [],
   "source": [
    "ps = []\n",
    "for patch, mask in zip(patches, masks):\n",
    "    p, bb = create_FISH(patch.copy(), mask.copy(), num_red=2, num_green=2)\n",
    "    new_img = draw_boxes_on_patch(p, bb)\n",
    "    ps.append(new_img)\n",
    "    if len(ps) >= 25:\n",
    "        break\n",
    "    \n",
    "gridPlot(ps, plot_size=(50,50))"
   ]
  },
  {
   "cell_type": "code",
   "execution_count": null,
   "metadata": {},
   "outputs": [],
   "source": []
  }
 ],
 "metadata": {
  "kernelspec": {
   "display_name": "contrastive",
   "language": "python",
   "name": "python3"
  },
  "language_info": {
   "codemirror_mode": {
    "name": "ipython",
    "version": 3
   },
   "file_extension": ".py",
   "mimetype": "text/x-python",
   "name": "python",
   "nbconvert_exporter": "python",
   "pygments_lexer": "ipython3",
   "version": "3.9.18"
  }
 },
 "nbformat": 4,
 "nbformat_minor": 2
}

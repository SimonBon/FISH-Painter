{
 "cells": [
  {
   "cell_type": "code",
   "execution_count": null,
   "metadata": {},
   "outputs": [],
   "source": [
    "import torch\n",
    "import os\n",
    "import FISHPainter\n",
    "import numpy as np\n",
    "from pathlib import Path \n",
    "from FISHPainter.src.preprocess import get_cell_background\n",
    "from FISHPainter.src.signals import create_FISH\n",
    "from FISHPainter.src.utils import create_dataset\n",
    "from CellPatchExtraction import extract_patches\n",
    "\n",
    "#debug\n",
    "from cellplot.patches import gridPlot, draw_boxes_on_patch\n",
    "\n",
    "FISHPainter.__version__"
   ]
  },
  {
   "cell_type": "code",
   "execution_count": null,
   "metadata": {},
   "outputs": [],
   "source": [
    "background = get_cell_background(\"./testdata/IF_RGB.TIFF\", normalize=False)[:700, :700]\n",
    "print(background.shape)"
   ]
  },
  {
   "cell_type": "code",
   "execution_count": null,
   "metadata": {},
   "outputs": [],
   "source": [
    "return_dict = extract_patches(background, \"CP_TU\", patch_size=128, return_all=True, device=torch.device(\"cuda:3\"))\n",
    "return_dict.keys()"
   ]
  },
  {
   "cell_type": "code",
   "execution_count": null,
   "metadata": {},
   "outputs": [],
   "source": [
    "patches = return_dict[\"image_patches\"]\n",
    "masks = return_dict[\"mask_patches\"]\n",
    "\n",
    "len(patches), len(masks)"
   ]
  },
  {
   "cell_type": "code",
   "execution_count": null,
   "metadata": {},
   "outputs": [],
   "source": [
    "patches_with_boxes = []\n",
    "bbox_dataset = []\n",
    "for patch, mask in zip(patches, masks):\n",
    "    n_green = np.random.randint(2, 8, 1)[0]\n",
    "    n_green_cluster = np.random.choice([0, 1, 2, 3], p=[0.7, 0.15, 0.1, 0.05])\n",
    "    fish_dict = create_FISH(patch.copy(), mask.copy(), num_red=2, num_green=n_green, num_green_cluster=n_green_cluster, green_cluster_size=4, return_as_dict=True)\n",
    "    bbox_img = draw_boxes_on_patch(fish_dict[\"patch\"].copy(), fish_dict[\"bboxes\"], fish_dict[\"labels\"])\n",
    "    patches_with_boxes.append(bbox_img)\n",
    "    bbox_dataset.append(fish_dict)\n",
    "    \n",
    "gridPlot(patches_with_boxes, grid_size=(8, 8), plot_size=(12, 12), hspace=0.05, vspace=0.05)"
   ]
  },
  {
   "cell_type": "code",
   "execution_count": null,
   "metadata": {},
   "outputs": [],
   "source": [
    "#create whole dataset\n",
    "background = get_cell_background(\"./testdata/IF_RGB.TIFF\", normalize=False)[:2000, :2000]"
   ]
  },
  {
   "cell_type": "code",
   "execution_count": null,
   "metadata": {},
   "outputs": [],
   "source": [
    "return_dict = extract_patches(background, \"CP_TU\", patch_size=128, return_all=True, device=torch.device(\"cuda:3\"))\n",
    "return_dict.keys()"
   ]
  },
  {
   "cell_type": "code",
   "execution_count": null,
   "metadata": {},
   "outputs": [],
   "source": [
    "patches = return_dict[\"image_patches\"]\n",
    "masks = return_dict[\"mask_patches\"]\n",
    "\n",
    "len(patches), len(masks)"
   ]
  },
  {
   "cell_type": "code",
   "execution_count": 101,
   "metadata": {},
   "outputs": [
    {
     "name": "stderr",
     "output_type": "stream",
     "text": [
      "Processing 3/250: 100%|██████████| 250/250 [00:09<00:00, 25.70it/s]\n"
     ]
    }
   ],
   "source": [
    "from tqdm import tqdm\n",
    "\n",
    "def create_fish_data(patches, masks, total_iterations):\n",
    "    \n",
    "    created = {\n",
    "        \"patches\": [],\n",
    "        \"labels\": [],\n",
    "        \"bboxes\": []\n",
    "    }\n",
    "    \n",
    "    with tqdm(total=total_iterations) as pbar:\n",
    "        for patch, mask in zip(patches, masks):\n",
    "            n_green = np.random.randint(2, 10, 1)[0]\n",
    "            n_green_cluster = np.random.choice([0, 1, 2, 3], p=[0.5, 0.25, 0.15, 0.1])\n",
    "            signal_size = np.random.uniform(1.5, 2.5)\n",
    "            FISH_dict = create_FISH(patch.copy(), mask.copy(), num_red=2, num_green=n_green, num_green_cluster=n_green_cluster, signal_size=signal_size, return_as_dict=True)\n",
    "            created[\"patches\"].append(FISH_dict[\"patch\"])\n",
    "            created[\"labels\"].append(FISH_dict[\"labels\"])\n",
    "            created[\"bboxes\"].append(FISH_dict[\"bboxes\"])\n",
    "            \n",
    "            pbar.update(1)  # Update the progress bar\n",
    "\n",
    "            if pbar.n == total_iterations:\n",
    "                return created  # Exit the function (and all loops) immediately\n",
    "\n",
    "            pbar.set_description(f\"Processing {len(created)}/{total_iterations}\")\n",
    "\n",
    "    return created  # Return created list if the loop completes without meeting the condition\n",
    "\n",
    "created = create_fish_data(patches, masks, total_iterations=250)"
   ]
  },
  {
   "cell_type": "code",
   "execution_count": 102,
   "metadata": {},
   "outputs": [
    {
     "name": "stdout",
     "output_type": "stream",
     "text": [
      "dict_keys(['patches', 'labels', 'bboxes'])\n"
     ]
    }
   ],
   "source": [
    "out_dir = Path(\"/home/simon_g/src/FISH-Painter_package/created\")\n",
    "\n",
    "if not os.path.exists(out_dir):\n",
    "    os.makedirs(out_dir)\n",
    "    \n",
    "create_dataset(dataset=created, filepath=out_dir.joinpath(\"created_dataset.h5\"))"
   ]
  },
  {
   "cell_type": "code",
   "execution_count": 103,
   "metadata": {},
   "outputs": [
    {
     "name": "stdout",
     "output_type": "stream",
     "text": [
      "250\n"
     ]
    }
   ],
   "source": [
    "#how to read the dataset\n",
    "import h5py\n",
    "\n",
    "patches, labels, bboxes = [], [], []\n",
    "with h5py.File(out_dir.joinpath(\"created_dataset.h5\"), 'r') as f:\n",
    "    \n",
    "    print(len(f.keys()))\n",
    "    for i in range(len(f.keys())):\n",
    "        group = f[str(i)]\n",
    "        patches.append(group[\"patches\"][()])\n",
    "        labels.append(group[\"labels\"][()])\n",
    "        bboxes.append(group[\"bboxes\"][()])\n"
   ]
  },
  {
   "cell_type": "code",
   "execution_count": 104,
   "metadata": {},
   "outputs": [
    {
     "data": {
      "text/plain": [
       "(250, 250, 250)"
      ]
     },
     "execution_count": 104,
     "metadata": {},
     "output_type": "execute_result"
    }
   ],
   "source": [
    "len(patches), len(labels), len(bboxes)"
   ]
  },
  {
   "cell_type": "code",
   "execution_count": null,
   "metadata": {},
   "outputs": [],
   "source": []
  }
 ],
 "metadata": {
  "kernelspec": {
   "display_name": "contrastive",
   "language": "python",
   "name": "python3"
  },
  "language_info": {
   "codemirror_mode": {
    "name": "ipython",
    "version": 3
   },
   "file_extension": ".py",
   "mimetype": "text/x-python",
   "name": "python",
   "nbconvert_exporter": "python",
   "pygments_lexer": "ipython3",
   "version": "3.9.18"
  }
 },
 "nbformat": 4,
 "nbformat_minor": 2
}
